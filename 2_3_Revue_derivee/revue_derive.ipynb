import matplotlib.pyplot as plt
import numpy as np

x = np.arange(0,10,0.1)
y = x**2-10*np.sin(x)
dy = 2*x-10*np.cos(x)

x2val=3.5
